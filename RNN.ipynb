{
  "nbformat": 4,
  "nbformat_minor": 0,
  "metadata": {
    "colab": {
      "provenance": []
    },
    "kernelspec": {
      "name": "python3",
      "display_name": "Python 3"
    },
    "language_info": {
      "name": "python"
    },
    "widgets": {
      "application/vnd.jupyter.widget-state+json": {
        "5b262a43c9774967a4d21ac9d8981144": {
          "model_module": "@jupyter-widgets/controls",
          "model_name": "HBoxModel",
          "model_module_version": "1.5.0",
          "state": {
            "_dom_classes": [],
            "_model_module": "@jupyter-widgets/controls",
            "_model_module_version": "1.5.0",
            "_model_name": "HBoxModel",
            "_view_count": null,
            "_view_module": "@jupyter-widgets/controls",
            "_view_module_version": "1.5.0",
            "_view_name": "HBoxView",
            "box_style": "",
            "children": [
              "IPY_MODEL_ce3b5e32f0cd4e949b621bb7499b9f16",
              "IPY_MODEL_9aaac22531094c129b34f94eb8908922",
              "IPY_MODEL_afc85e1bf31548d2a0cf45ca6e690d27"
            ],
            "layout": "IPY_MODEL_734348a0de2c4046aa117a92893f8632"
          }
        },
        "ce3b5e32f0cd4e949b621bb7499b9f16": {
          "model_module": "@jupyter-widgets/controls",
          "model_name": "HTMLModel",
          "model_module_version": "1.5.0",
          "state": {
            "_dom_classes": [],
            "_model_module": "@jupyter-widgets/controls",
            "_model_module_version": "1.5.0",
            "_model_name": "HTMLModel",
            "_view_count": null,
            "_view_module": "@jupyter-widgets/controls",
            "_view_module_version": "1.5.0",
            "_view_name": "HTMLView",
            "description": "",
            "description_tooltip": null,
            "layout": "IPY_MODEL_1f414bad1e2c4787bf64f48fe90f317e",
            "placeholder": "​",
            "style": "IPY_MODEL_9012a94dcd20410585816321ee74c12f",
            "value": "100%"
          }
        },
        "9aaac22531094c129b34f94eb8908922": {
          "model_module": "@jupyter-widgets/controls",
          "model_name": "FloatProgressModel",
          "model_module_version": "1.5.0",
          "state": {
            "_dom_classes": [],
            "_model_module": "@jupyter-widgets/controls",
            "_model_module_version": "1.5.0",
            "_model_name": "FloatProgressModel",
            "_view_count": null,
            "_view_module": "@jupyter-widgets/controls",
            "_view_module_version": "1.5.0",
            "_view_name": "ProgressView",
            "bar_style": "success",
            "description": "",
            "description_tooltip": null,
            "layout": "IPY_MODEL_1af4882c8bea4cb1838af9bbf4350e2d",
            "max": 3,
            "min": 0,
            "orientation": "horizontal",
            "style": "IPY_MODEL_87418541467b4eb19b0302c1f9820207",
            "value": 3
          }
        },
        "afc85e1bf31548d2a0cf45ca6e690d27": {
          "model_module": "@jupyter-widgets/controls",
          "model_name": "HTMLModel",
          "model_module_version": "1.5.0",
          "state": {
            "_dom_classes": [],
            "_model_module": "@jupyter-widgets/controls",
            "_model_module_version": "1.5.0",
            "_model_name": "HTMLModel",
            "_view_count": null,
            "_view_module": "@jupyter-widgets/controls",
            "_view_module_version": "1.5.0",
            "_view_name": "HTMLView",
            "description": "",
            "description_tooltip": null,
            "layout": "IPY_MODEL_3e232f288ed9457592ba908e877bfb43",
            "placeholder": "​",
            "style": "IPY_MODEL_fe6ec80aed31449a866de3649cf345d4",
            "value": " 3/3 [00:00&lt;00:00, 78.91it/s]"
          }
        },
        "734348a0de2c4046aa117a92893f8632": {
          "model_module": "@jupyter-widgets/base",
          "model_name": "LayoutModel",
          "model_module_version": "1.2.0",
          "state": {
            "_model_module": "@jupyter-widgets/base",
            "_model_module_version": "1.2.0",
            "_model_name": "LayoutModel",
            "_view_count": null,
            "_view_module": "@jupyter-widgets/base",
            "_view_module_version": "1.2.0",
            "_view_name": "LayoutView",
            "align_content": null,
            "align_items": null,
            "align_self": null,
            "border": null,
            "bottom": null,
            "display": null,
            "flex": null,
            "flex_flow": null,
            "grid_area": null,
            "grid_auto_columns": null,
            "grid_auto_flow": null,
            "grid_auto_rows": null,
            "grid_column": null,
            "grid_gap": null,
            "grid_row": null,
            "grid_template_areas": null,
            "grid_template_columns": null,
            "grid_template_rows": null,
            "height": null,
            "justify_content": null,
            "justify_items": null,
            "left": null,
            "margin": null,
            "max_height": null,
            "max_width": null,
            "min_height": null,
            "min_width": null,
            "object_fit": null,
            "object_position": null,
            "order": null,
            "overflow": null,
            "overflow_x": null,
            "overflow_y": null,
            "padding": null,
            "right": null,
            "top": null,
            "visibility": null,
            "width": null
          }
        },
        "1f414bad1e2c4787bf64f48fe90f317e": {
          "model_module": "@jupyter-widgets/base",
          "model_name": "LayoutModel",
          "model_module_version": "1.2.0",
          "state": {
            "_model_module": "@jupyter-widgets/base",
            "_model_module_version": "1.2.0",
            "_model_name": "LayoutModel",
            "_view_count": null,
            "_view_module": "@jupyter-widgets/base",
            "_view_module_version": "1.2.0",
            "_view_name": "LayoutView",
            "align_content": null,
            "align_items": null,
            "align_self": null,
            "border": null,
            "bottom": null,
            "display": null,
            "flex": null,
            "flex_flow": null,
            "grid_area": null,
            "grid_auto_columns": null,
            "grid_auto_flow": null,
            "grid_auto_rows": null,
            "grid_column": null,
            "grid_gap": null,
            "grid_row": null,
            "grid_template_areas": null,
            "grid_template_columns": null,
            "grid_template_rows": null,
            "height": null,
            "justify_content": null,
            "justify_items": null,
            "left": null,
            "margin": null,
            "max_height": null,
            "max_width": null,
            "min_height": null,
            "min_width": null,
            "object_fit": null,
            "object_position": null,
            "order": null,
            "overflow": null,
            "overflow_x": null,
            "overflow_y": null,
            "padding": null,
            "right": null,
            "top": null,
            "visibility": null,
            "width": null
          }
        },
        "9012a94dcd20410585816321ee74c12f": {
          "model_module": "@jupyter-widgets/controls",
          "model_name": "DescriptionStyleModel",
          "model_module_version": "1.5.0",
          "state": {
            "_model_module": "@jupyter-widgets/controls",
            "_model_module_version": "1.5.0",
            "_model_name": "DescriptionStyleModel",
            "_view_count": null,
            "_view_module": "@jupyter-widgets/base",
            "_view_module_version": "1.2.0",
            "_view_name": "StyleView",
            "description_width": ""
          }
        },
        "1af4882c8bea4cb1838af9bbf4350e2d": {
          "model_module": "@jupyter-widgets/base",
          "model_name": "LayoutModel",
          "model_module_version": "1.2.0",
          "state": {
            "_model_module": "@jupyter-widgets/base",
            "_model_module_version": "1.2.0",
            "_model_name": "LayoutModel",
            "_view_count": null,
            "_view_module": "@jupyter-widgets/base",
            "_view_module_version": "1.2.0",
            "_view_name": "LayoutView",
            "align_content": null,
            "align_items": null,
            "align_self": null,
            "border": null,
            "bottom": null,
            "display": null,
            "flex": null,
            "flex_flow": null,
            "grid_area": null,
            "grid_auto_columns": null,
            "grid_auto_flow": null,
            "grid_auto_rows": null,
            "grid_column": null,
            "grid_gap": null,
            "grid_row": null,
            "grid_template_areas": null,
            "grid_template_columns": null,
            "grid_template_rows": null,
            "height": null,
            "justify_content": null,
            "justify_items": null,
            "left": null,
            "margin": null,
            "max_height": null,
            "max_width": null,
            "min_height": null,
            "min_width": null,
            "object_fit": null,
            "object_position": null,
            "order": null,
            "overflow": null,
            "overflow_x": null,
            "overflow_y": null,
            "padding": null,
            "right": null,
            "top": null,
            "visibility": null,
            "width": null
          }
        },
        "87418541467b4eb19b0302c1f9820207": {
          "model_module": "@jupyter-widgets/controls",
          "model_name": "ProgressStyleModel",
          "model_module_version": "1.5.0",
          "state": {
            "_model_module": "@jupyter-widgets/controls",
            "_model_module_version": "1.5.0",
            "_model_name": "ProgressStyleModel",
            "_view_count": null,
            "_view_module": "@jupyter-widgets/base",
            "_view_module_version": "1.2.0",
            "_view_name": "StyleView",
            "bar_color": null,
            "description_width": ""
          }
        },
        "3e232f288ed9457592ba908e877bfb43": {
          "model_module": "@jupyter-widgets/base",
          "model_name": "LayoutModel",
          "model_module_version": "1.2.0",
          "state": {
            "_model_module": "@jupyter-widgets/base",
            "_model_module_version": "1.2.0",
            "_model_name": "LayoutModel",
            "_view_count": null,
            "_view_module": "@jupyter-widgets/base",
            "_view_module_version": "1.2.0",
            "_view_name": "LayoutView",
            "align_content": null,
            "align_items": null,
            "align_self": null,
            "border": null,
            "bottom": null,
            "display": null,
            "flex": null,
            "flex_flow": null,
            "grid_area": null,
            "grid_auto_columns": null,
            "grid_auto_flow": null,
            "grid_auto_rows": null,
            "grid_column": null,
            "grid_gap": null,
            "grid_row": null,
            "grid_template_areas": null,
            "grid_template_columns": null,
            "grid_template_rows": null,
            "height": null,
            "justify_content": null,
            "justify_items": null,
            "left": null,
            "margin": null,
            "max_height": null,
            "max_width": null,
            "min_height": null,
            "min_width": null,
            "object_fit": null,
            "object_position": null,
            "order": null,
            "overflow": null,
            "overflow_x": null,
            "overflow_y": null,
            "padding": null,
            "right": null,
            "top": null,
            "visibility": null,
            "width": null
          }
        },
        "fe6ec80aed31449a866de3649cf345d4": {
          "model_module": "@jupyter-widgets/controls",
          "model_name": "DescriptionStyleModel",
          "model_module_version": "1.5.0",
          "state": {
            "_model_module": "@jupyter-widgets/controls",
            "_model_module_version": "1.5.0",
            "_model_name": "DescriptionStyleModel",
            "_view_count": null,
            "_view_module": "@jupyter-widgets/base",
            "_view_module_version": "1.2.0",
            "_view_name": "StyleView",
            "description_width": ""
          }
        }
      }
    }
  },
  "cells": [
    {
      "cell_type": "code",
      "source": [
        "\n",
        "pip install datasets"
      ],
      "metadata": {
        "colab": {
          "base_uri": "https://localhost:8080/"
        },
        "id": "6NOWlnSomY27",
        "outputId": "32d4f28b-2e74-4ed9-dcd5-a04b73476b0f"
      },
      "execution_count": 41,
      "outputs": [
        {
          "output_type": "stream",
          "name": "stdout",
          "text": [
            "Looking in indexes: https://pypi.org/simple, https://us-python.pkg.dev/colab-wheels/public/simple/\n",
            "Requirement already satisfied: datasets in /usr/local/lib/python3.10/dist-packages (2.12.0)\n",
            "Requirement already satisfied: numpy>=1.17 in /usr/local/lib/python3.10/dist-packages (from datasets) (1.22.4)\n",
            "Requirement already satisfied: pyarrow>=8.0.0 in /usr/local/lib/python3.10/dist-packages (from datasets) (9.0.0)\n",
            "Requirement already satisfied: dill<0.3.7,>=0.3.0 in /usr/local/lib/python3.10/dist-packages (from datasets) (0.3.6)\n",
            "Requirement already satisfied: pandas in /usr/local/lib/python3.10/dist-packages (from datasets) (1.5.3)\n",
            "Requirement already satisfied: requests>=2.19.0 in /usr/local/lib/python3.10/dist-packages (from datasets) (2.27.1)\n",
            "Requirement already satisfied: tqdm>=4.62.1 in /usr/local/lib/python3.10/dist-packages (from datasets) (4.65.0)\n",
            "Requirement already satisfied: xxhash in /usr/local/lib/python3.10/dist-packages (from datasets) (3.2.0)\n",
            "Requirement already satisfied: multiprocess in /usr/local/lib/python3.10/dist-packages (from datasets) (0.70.14)\n",
            "Requirement already satisfied: fsspec[http]>=2021.11.1 in /usr/local/lib/python3.10/dist-packages (from datasets) (2023.4.0)\n",
            "Requirement already satisfied: aiohttp in /usr/local/lib/python3.10/dist-packages (from datasets) (3.8.4)\n",
            "Requirement already satisfied: huggingface-hub<1.0.0,>=0.11.0 in /usr/local/lib/python3.10/dist-packages (from datasets) (0.15.1)\n",
            "Requirement already satisfied: packaging in /usr/local/lib/python3.10/dist-packages (from datasets) (23.1)\n",
            "Requirement already satisfied: responses<0.19 in /usr/local/lib/python3.10/dist-packages (from datasets) (0.18.0)\n",
            "Requirement already satisfied: pyyaml>=5.1 in /usr/local/lib/python3.10/dist-packages (from datasets) (6.0)\n",
            "Requirement already satisfied: attrs>=17.3.0 in /usr/local/lib/python3.10/dist-packages (from aiohttp->datasets) (23.1.0)\n",
            "Requirement already satisfied: charset-normalizer<4.0,>=2.0 in /usr/local/lib/python3.10/dist-packages (from aiohttp->datasets) (2.0.12)\n",
            "Requirement already satisfied: multidict<7.0,>=4.5 in /usr/local/lib/python3.10/dist-packages (from aiohttp->datasets) (6.0.4)\n",
            "Requirement already satisfied: async-timeout<5.0,>=4.0.0a3 in /usr/local/lib/python3.10/dist-packages (from aiohttp->datasets) (4.0.2)\n",
            "Requirement already satisfied: yarl<2.0,>=1.0 in /usr/local/lib/python3.10/dist-packages (from aiohttp->datasets) (1.9.2)\n",
            "Requirement already satisfied: frozenlist>=1.1.1 in /usr/local/lib/python3.10/dist-packages (from aiohttp->datasets) (1.3.3)\n",
            "Requirement already satisfied: aiosignal>=1.1.2 in /usr/local/lib/python3.10/dist-packages (from aiohttp->datasets) (1.3.1)\n",
            "Requirement already satisfied: filelock in /usr/local/lib/python3.10/dist-packages (from huggingface-hub<1.0.0,>=0.11.0->datasets) (3.12.0)\n",
            "Requirement already satisfied: typing-extensions>=3.7.4.3 in /usr/local/lib/python3.10/dist-packages (from huggingface-hub<1.0.0,>=0.11.0->datasets) (4.5.0)\n",
            "Requirement already satisfied: urllib3<1.27,>=1.21.1 in /usr/local/lib/python3.10/dist-packages (from requests>=2.19.0->datasets) (1.26.15)\n",
            "Requirement already satisfied: certifi>=2017.4.17 in /usr/local/lib/python3.10/dist-packages (from requests>=2.19.0->datasets) (2022.12.7)\n",
            "Requirement already satisfied: idna<4,>=2.5 in /usr/local/lib/python3.10/dist-packages (from requests>=2.19.0->datasets) (3.4)\n",
            "Requirement already satisfied: python-dateutil>=2.8.1 in /usr/local/lib/python3.10/dist-packages (from pandas->datasets) (2.8.2)\n",
            "Requirement already satisfied: pytz>=2020.1 in /usr/local/lib/python3.10/dist-packages (from pandas->datasets) (2022.7.1)\n",
            "Requirement already satisfied: six>=1.5 in /usr/local/lib/python3.10/dist-packages (from python-dateutil>=2.8.1->pandas->datasets) (1.16.0)\n"
          ]
        }
      ]
    },
    {
      "cell_type": "code",
      "execution_count": 42,
      "metadata": {
        "id": "tb7FF5HfhxzU"
      },
      "outputs": [],
      "source": [
        "# imports\n",
        "import torch\n",
        "from torch import nn\n",
        "import datasets as ds\n",
        "from pprint import pprint\n",
        "from tqdm import tqdm\n",
        "from matplotlib import pyplot as plt\n",
        "from torchtext.vocab import build_vocab_from_iterator"
      ]
    },
    {
      "cell_type": "code",
      "source": [
        "# prepering data\n",
        "\n",
        "# A - load and process the dataset\n",
        "dataset = ds.load_dataset(\"glue\", \"sst2\")\n",
        "sentence_list = dataset[\"train\"][\"sentence\"]\n",
        "labels_list   = dataset[\"train\"][\"label\"]\n",
        "tokenize      = lambda x: x.split()\n",
        "tokenized     = list(map(tokenize, sentence_list))\n",
        "\n",
        "# create vocabulary\n",
        "vocab = build_vocab_from_iterator(tokenized, specials=[\"\"], min_freq=5)\n",
        "vocab.set_default_index(0)\n",
        "\n",
        "# convert string to int\n",
        "func = lambda x: torch.tensor(vocab(x))\n",
        "integer_tokens = list(map(func, tokenized))\n",
        "label_tensors  = list(map(torch.tensor, labels_list))\n",
        "\n",
        "# split to train and test\n",
        "test_split   = len(integer_tokens) * 8//10\n",
        "train_tokens = integer_tokens[:test_split]\n",
        "train_labels = label_tensors[:test_split]\n",
        "test_tokens  = integer_tokens[test_split:]\n",
        "test_labels  = label_tensors[test_split:]"
      ],
      "metadata": {
        "colab": {
          "base_uri": "https://localhost:8080/",
          "height": 66,
          "referenced_widgets": [
            "5b262a43c9774967a4d21ac9d8981144",
            "ce3b5e32f0cd4e949b621bb7499b9f16",
            "9aaac22531094c129b34f94eb8908922",
            "afc85e1bf31548d2a0cf45ca6e690d27",
            "734348a0de2c4046aa117a92893f8632",
            "1f414bad1e2c4787bf64f48fe90f317e",
            "9012a94dcd20410585816321ee74c12f",
            "1af4882c8bea4cb1838af9bbf4350e2d",
            "87418541467b4eb19b0302c1f9820207",
            "3e232f288ed9457592ba908e877bfb43",
            "fe6ec80aed31449a866de3649cf345d4"
          ]
        },
        "id": "gBVetmFiiNVn",
        "outputId": "9bc75759-fe95-469e-99c4-b9d0742cce33"
      },
      "execution_count": 43,
      "outputs": [
        {
          "output_type": "stream",
          "name": "stderr",
          "text": [
            "WARNING:datasets.builder:Found cached dataset glue (/root/.cache/huggingface/datasets/glue/sst2/1.0.0/dacbe3125aa31d7f70367a07a8a9e72a5a0bfeb5fc42e75c9db75b96da6053ad)\n"
          ]
        },
        {
          "output_type": "display_data",
          "data": {
            "text/plain": [
              "  0%|          | 0/3 [00:00<?, ?it/s]"
            ],
            "application/vnd.jupyter.widget-view+json": {
              "version_major": 2,
              "version_minor": 0,
              "model_id": "5b262a43c9774967a4d21ac9d8981144"
            }
          },
          "metadata": {}
        }
      ]
    },
    {
      "cell_type": "code",
      "source": [
        "# B RNN for data classification\n",
        "class FasterDeepRNNClassifier(nn.Module):\n",
        "  def __init__(self, embed_dim, hidden_dim, RNNlayers):\n",
        "    super().__init__()\n",
        "    self.hidden_dim = hidden_dim\n",
        "    self.embedding = nn.Embedding(len(vocab),embed_dim)\n",
        "    self.rnn_stack = nn.RNN(embed_dim, hidden_dim,RNNlayers)\n",
        "    self.linear = nn.Linear(hidden_dim, 2)\n",
        "    self.logsoftmax = nn.LogSoftmax(dim=0)\n",
        "  def forward(self, sentence_tokens):\n",
        "    all_embeddings = self.embedding(sentence_tokens)\n",
        "    all_embeddings = all_embeddings.unsqueeze(1)\n",
        "    hidden_state_history, _= self.rnn_stack(all_embeddings)\n",
        "    feature_extractor_output = hidden_state_history[-1,0,:]\n",
        "    class_scores = self.linear(feature_extractor_output)\n",
        "    logprobs = self.logsoftmax(class_scores)\n",
        "    return logprobs\n",
        "\n",
        "def iterate_one_sentence(tokens, label, train_flag):\n",
        "  if train_flag:\n",
        "    model.train()  \n",
        "    optimizer.zero_grad()\n",
        "    y_model = model(tokens)\n",
        "    loss    = -y_model[label] #Cross Entropy\n",
        "    loss.backward()\n",
        "    optimizer.step()\n",
        "  else:\n",
        "    model.eval()\n",
        "    y_model = model(tokens)\n",
        "    model.train()\n",
        "  with torch.no_grad():\n",
        "    predicted_labels = y_model.argmax()\n",
        "    success = (predicted_labels == label)\n",
        "  return success"
      ],
      "metadata": {
        "id": "nvhptX1pjs2k"
      },
      "execution_count": 44,
      "outputs": []
    },
    {
      "cell_type": "code",
      "source": [
        "# Q1\n",
        "\n",
        "model = FasterDeepRNNClassifier(50, 5, 5)\n",
        "optimizer = torch.optim.AdamW(model.parameters())\n",
        "\n",
        "# overfit a small batch to check if learning _can_ occur\n",
        "num_samples, epochs = 200, 20\n",
        "parameters = list(model.parameters())\n",
        "avg_grad_norms = torch.zeros(epochs)\n",
        "\n",
        "# train\n",
        "for epoch in range(epochs):\n",
        "    correct_predictions = torch.tensor([0.])\n",
        "    grad_norm_temp = torch.zeros(num_samples)\n",
        "    sentence_gradients = []  # Mean gradients for each token in the sentence\n",
        "    for idx in tqdm(range(num_samples)):\n",
        "        correct_predictions += iterate_one_sentence(train_tokens[idx], train_labels[idx], train_flag=True)\n",
        "        norms = [p.grad.detach().abs().max() for p in parameters if p.grad is not None]\n",
        "        grad_norm_temp[idx] = torch.max(torch.stack(norms))\n",
        "\n",
        "        # Calculate mean gradients for each token in the input sentence\n",
        "        token_gradients = [p.grad.detach().abs().mean() for p in parameters if p.grad is not None]\n",
        "        if len(sentence_gradients) == 0:\n",
        "            sentence_gradients = token_gradients\n",
        "        else:\n",
        "            sentence_gradients = [sg + tg for sg, tg in zip(sentence_gradients, token_gradients)]\n",
        "\n",
        "    avg_grad_norms[epoch] = grad_norm_temp.mean()\n",
        "    acc = correct_predictions / num_samples\n",
        "    if epoch % 10 == 0:\n",
        "        print(\"Epoch\", epoch, \" acc:\", acc.item())\n",
        "        # Print the mean gradients for each token in the sentence\n",
        "        print(\"Mean gradients for each token:\")\n",
        "        for token_index, gradient in enumerate(sentence_gradients):\n",
        "            print(\"Token\", token_index, \":\", gradient.item())\n",
        "\n",
        "# test\n",
        "test_correct_predictions = torch.tensor([0.])\n",
        "for tokens, label in tqdm(zip(test_tokens, test_labels), total=len(test_tokens)):\n",
        "    test_correct_predictions += iterate_one_sentence(tokens, label, train_flag=False)\n",
        "test_acc = test_correct_predictions / len(test_tokens)\n",
        "\n",
        "print(acc, test_acc, sep=\"\\n\")\n",
        "\n"
      ],
      "metadata": {
        "colab": {
          "base_uri": "https://localhost:8080/"
        },
        "id": "wBUjaTzdj2Oc",
        "outputId": "a856c6f8-55ad-4e82-a6a3-e0d5103f594e"
      },
      "execution_count": 45,
      "outputs": [
        {
          "output_type": "stream",
          "name": "stderr",
          "text": [
            "100%|██████████| 200/200 [00:07<00:00, 25.40it/s]\n"
          ]
        },
        {
          "output_type": "stream",
          "name": "stdout",
          "text": [
            "Epoch 0  acc: 0.5099999904632568\n",
            "Mean gradients for each token:\n",
            "Token 0 : 5.6553461035946384e-05\n",
            "Token 1 : 0.5155762434005737\n",
            "Token 2 : 0.43635761737823486\n",
            "Token 3 : 0.4438784718513489\n",
            "Token 4 : 0.4438784718513489\n",
            "Token 5 : 1.699069619178772\n",
            "Token 6 : 0.8770310878753662\n",
            "Token 7 : 1.7023639678955078\n",
            "Token 8 : 1.7023640871047974\n",
            "Token 9 : 3.8833067417144775\n",
            "Token 10 : 3.320596218109131\n",
            "Token 11 : 8.265433311462402\n",
            "Token 12 : 8.265433311462402\n",
            "Token 13 : 3.1245369911193848\n",
            "Token 14 : 4.338393688201904\n",
            "Token 15 : 6.782926559448242\n",
            "Token 16 : 6.782926559448242\n",
            "Token 17 : 20.7335205078125\n",
            "Token 18 : 11.856162071228027\n",
            "Token 19 : 30.08437156677246\n",
            "Token 20 : 30.08437156677246\n",
            "Token 21 : 40.678672790527344\n",
            "Token 22 : 100.94650268554688\n"
          ]
        },
        {
          "output_type": "stream",
          "name": "stderr",
          "text": [
            "100%|██████████| 200/200 [00:11<00:00, 17.55it/s]\n",
            "100%|██████████| 200/200 [00:09<00:00, 21.23it/s]\n",
            "100%|██████████| 200/200 [00:04<00:00, 40.70it/s]\n",
            "100%|██████████| 200/200 [00:04<00:00, 43.15it/s]\n",
            "100%|██████████| 200/200 [00:04<00:00, 43.48it/s]\n",
            "100%|██████████| 200/200 [00:04<00:00, 41.17it/s]\n",
            "100%|██████████| 200/200 [00:06<00:00, 29.84it/s]\n",
            "100%|██████████| 200/200 [00:07<00:00, 27.56it/s]\n",
            "100%|██████████| 200/200 [00:04<00:00, 47.89it/s]\n",
            "100%|██████████| 200/200 [00:04<00:00, 43.89it/s]\n"
          ]
        },
        {
          "output_type": "stream",
          "name": "stdout",
          "text": [
            "Epoch 10  acc: 1.0\n",
            "Mean gradients for each token:\n",
            "Token 0 : 8.538070687791333e-05\n",
            "Token 1 : 0.6961354613304138\n",
            "Token 2 : 0.6247379779815674\n",
            "Token 3 : 0.7077778577804565\n",
            "Token 4 : 0.7077778577804565\n",
            "Token 5 : 2.0343711376190186\n",
            "Token 6 : 1.1148555278778076\n",
            "Token 7 : 1.3929978609085083\n",
            "Token 8 : 1.3929978609085083\n",
            "Token 9 : 0.7088034749031067\n",
            "Token 10 : 0.6558895111083984\n",
            "Token 11 : 0.8252984881401062\n",
            "Token 12 : 0.8252984881401062\n",
            "Token 13 : 0.4276160001754761\n",
            "Token 14 : 0.5860615372657776\n",
            "Token 15 : 0.6314535140991211\n",
            "Token 16 : 0.6314535140991211\n",
            "Token 17 : 0.8505582213401794\n",
            "Token 18 : 0.779582679271698\n",
            "Token 19 : 1.0703870058059692\n",
            "Token 20 : 1.0703870058059692\n",
            "Token 21 : 2.625898599624634\n",
            "Token 22 : 3.8199527263641357\n"
          ]
        },
        {
          "output_type": "stream",
          "name": "stderr",
          "text": [
            "100%|██████████| 200/200 [00:05<00:00, 36.46it/s]\n",
            "100%|██████████| 200/200 [00:04<00:00, 40.49it/s]\n",
            "100%|██████████| 200/200 [00:05<00:00, 39.67it/s]\n",
            "100%|██████████| 200/200 [00:05<00:00, 39.17it/s]\n",
            "100%|██████████| 200/200 [00:04<00:00, 48.12it/s]\n",
            "100%|██████████| 200/200 [00:05<00:00, 37.98it/s]\n",
            "100%|██████████| 200/200 [00:04<00:00, 45.28it/s]\n",
            "100%|██████████| 200/200 [00:04<00:00, 47.03it/s]\n",
            "100%|██████████| 200/200 [00:05<00:00, 39.11it/s]\n",
            "100%|██████████| 13470/13470 [00:31<00:00, 429.11it/s]"
          ]
        },
        {
          "output_type": "stream",
          "name": "stdout",
          "text": [
            "tensor([1.])\n",
            "tensor([0.5056])\n"
          ]
        },
        {
          "output_type": "stream",
          "name": "stderr",
          "text": [
            "\n"
          ]
        }
      ]
    },
    {
      "cell_type": "code",
      "source": [
        "plt.plot(avg_grad_norms)\n",
        "plt.xlabel(\"Epoch\")\n",
        "plt.title(\"Average Inf Norm\");"
      ],
      "metadata": {
        "colab": {
          "base_uri": "https://localhost:8080/",
          "height": 472
        },
        "id": "b5iYNWQeIU9D",
        "outputId": "ea7b75d4-43bc-454a-c5bf-54211a53041d"
      },
      "execution_count": 46,
      "outputs": [
        {
          "output_type": "display_data",
          "data": {
            "text/plain": [
              "<Figure size 640x480 with 1 Axes>"
            ],
            "image/png": "[encoded data removed]"
          },
          "metadata": {}
        }
      ]
    },
    {
      "cell_type": "code",
      "source": [],
      "metadata": {
        "id": "J8sIR3goRl4i"
      },
      "execution_count": 46,
      "outputs": []
    },
    {
      "cell_type": "code",
      "source": [
        "# Q2\n",
        "class BasicRNNCell(nn.Module):\n",
        "  def __init__(self,embed_dim,hidden_dim):\n",
        "    super().__init__()\n",
        "    self.hidden_state = torch.zeros(hidden_dim)\n",
        "    self.hidden_linear = nn.Linear(in_features = hidden_dim,\n",
        "                                   out_features = hidden_dim)\n",
        "    self.input_linear = nn.Linear(in_features = embed_dim,\n",
        "                                   out_features = hidden_dim)\n",
        "    self.activation = nn.Tanh()\n",
        "\n",
        "  def forward(self, one_embedded_token):\n",
        "      # A - define H_hat_t\n",
        "      Z1        = self.input_linear(one_embedded_token)\n",
        "      Z2        = self.hidden_linear(self.hidden_state)\n",
        "      Y         = Z1+Z2\n",
        "      new_state = self.activation(Y) # H_hat_t\n",
        "      self.hidden_state = new_state\n",
        "\n",
        "class ModifiedRNNCell(nn.Module):\n",
        "    def __init__(self,embed_dim,hidden_dim):\n",
        "      super().__init__()\n",
        "      self.hidden_state = torch.zeros(hidden_dim)\n",
        "      self.hidden_state_reset = torch.zeros(hidden_dim)\n",
        "\n",
        "      self.hidden_linear = nn.Linear(in_features = hidden_dim,\n",
        "                                   out_features = hidden_dim)\n",
        "      self.input_linear = nn.Linear(in_features = embed_dim,\n",
        "                                   out_features = hidden_dim)\n",
        "      self.reset_linear = nn.Linear(in_features = embed_dim,\n",
        "                                   out_features = hidden_dim)\n",
        "\n",
        "      self.tanh_activation = nn.Tanh()\n",
        "\n",
        "    def forward(self, one_embedded_token):\n",
        "      input = self.input_linear(one_embedded_token) # X_t - current input\n",
        "      hidden_state = self.hidden_linear(self.hidden_state) # H_(t-1) - precious hidden state\n",
        "      H_hat = self.tanh_activation(input + hidden_state)\n",
        "\n",
        "      # B = define R_t \"reset button\"\n",
        "      R_t = self.reset_linear(one_embedded_token) # Depend on input at timestep t only\n",
        "      # C + D - calculate H_t as H_t_hat * R_t with option to forget the hidden state base on the network learning\n",
        "      new_H_t = H_hat * R_t\n",
        "      # E - chose tanh as activation function. when h_t is small, the output of tanh will change it to almost zero, help to forget\n",
        "      self.hidden_state = self.tanh_activation(new_H_t) # H_t = new hidden state. Sigmoid because output is between 0 to 1 \n"
      ],
      "metadata": {
        "id": "VlJnnTpUkVNu"
      },
      "execution_count": 47,
      "outputs": []
    },
    {
      "cell_type": "code",
      "source": [
        "class BaseRNNClassifier(nn.Module):\n",
        "  def __init__(self, embed_dim,hidden_dim, is_basic_rnn : True):\n",
        "    super().__init__()\n",
        "    self.hidden_dim = hidden_dim\n",
        "    self.embedding = nn.Embedding(len(vocab),embed_dim)\n",
        "\n",
        "    if is_basic_rnn:\n",
        "      self.rnn = BasicRNNCell(embed_dim,hidden_dim)\n",
        "    else:\n",
        "      self.rnn = ModifiedRNNCell(embed_dim,hidden_dim)\n",
        "    self.linear = nn.Linear(hidden_dim, 2)\n",
        "    self.logsoftmax = nn.LogSoftmax(dim=0)\n",
        "\n",
        "  def forward(self, sentence_tokens):\n",
        "    self.rnn.hidden_state = torch.zeros(self.hidden_dim)\n",
        "    for one_token in sentence_tokens:\n",
        "      one_embedded_token = self.embedding(one_token)\n",
        "      self.rnn(one_embedded_token)\n",
        "    \n",
        "    feature_extractor_output = self.rnn.hidden_state\n",
        "\n",
        "    class_scores= self.linear(feature_extractor_output)\n",
        "    logprobs = self.logsoftmax(class_scores)\n",
        "    return logprobs"
      ],
      "metadata": {
        "id": "4MaMaVMeksJT"
      },
      "execution_count": 48,
      "outputs": []
    },
    {
      "cell_type": "code",
      "source": [
        "# F train the neural network\n",
        "\n",
        "## Train without R_t\n",
        "\n",
        "model = BaseRNNClassifier(10,10,True)\n",
        "optimizer = torch.optim.AdamW(model.parameters())\n",
        "\n",
        "# overfit a small batch to check if learning _can_ occur\n",
        "num_samples, epochs = 200, 20\n",
        "parameters = list(model.parameters())\n",
        "avg_grad_norms = torch.zeros(epochs)\n",
        "\n",
        "# train\n",
        "for epoch in range(epochs):\n",
        "  correct_predictions = torch.tensor([0.])\n",
        "  grad_norm_temp      = torch.zeros(num_samples)\n",
        "  for idx in tqdm(range(num_samples)):\n",
        "    correct_predictions += iterate_one_sentence(train_tokens[idx],\n",
        "                                                train_labels[idx],\n",
        "                                                train_flag=True)\n",
        "    norms = [p.grad.detach().abs().max() for p in parameters if p.grad is not None]\n",
        "    grad_norm_temp[idx] = torch.max(torch.stack(norms))\n",
        "\n",
        "  avg_grad_norms[epoch] = grad_norm_temp.mean()   \n",
        "  acc = correct_predictions/num_samples\n",
        "  if epoch % 3 == 0:\n",
        "    print(\"Epoch\",epoch,\" acc:\",acc.item())\n",
        "\n",
        "# test without R_t\n",
        "test_correct_predictions = torch.tensor([0.])\n",
        "for tokens, label in tqdm(zip(test_tokens, test_labels), total=len(test_tokens)):\n",
        "  test_correct_predictions += iterate_one_sentence(tokens, label, train_flag=False)\n",
        "test_acc = test_correct_predictions / len(test_tokens)\n",
        "\n",
        "print(acc, test_acc, sep=\"\\n\")"
      ],
      "metadata": {
        "colab": {
          "base_uri": "https://localhost:8080/"
        },
        "id": "gC37SzhQnYj9",
        "outputId": "0ef11005-3a97-4917-cf0f-b0406bbe2d39"
      },
      "execution_count": 49,
      "outputs": [
        {
          "output_type": "stream",
          "name": "stderr",
          "text": [
            "100%|██████████| 200/200 [00:01<00:00, 141.71it/s]\n"
          ]
        },
        {
          "output_type": "stream",
          "name": "stdout",
          "text": [
            "Epoch 0  acc: 0.49000000953674316\n"
          ]
        },
        {
          "output_type": "stream",
          "name": "stderr",
          "text": [
            "100%|██████████| 200/200 [00:01<00:00, 150.26it/s]\n",
            "100%|██████████| 200/200 [00:01<00:00, 130.31it/s]\n",
            "100%|██████████| 200/200 [00:01<00:00, 103.59it/s]\n"
          ]
        },
        {
          "output_type": "stream",
          "name": "stdout",
          "text": [
            "Epoch 3  acc: 0.6100000143051147\n"
          ]
        },
        {
          "output_type": "stream",
          "name": "stderr",
          "text": [
            "100%|██████████| 200/200 [00:01<00:00, 123.55it/s]\n",
            "100%|██████████| 200/200 [00:01<00:00, 140.46it/s]\n",
            "100%|██████████| 200/200 [00:02<00:00, 93.05it/s]\n"
          ]
        },
        {
          "output_type": "stream",
          "name": "stdout",
          "text": [
            "Epoch 6  acc: 0.6899999976158142\n"
          ]
        },
        {
          "output_type": "stream",
          "name": "stderr",
          "text": [
            "100%|██████████| 200/200 [00:01<00:00, 119.23it/s]\n",
            "100%|██████████| 200/200 [00:01<00:00, 131.94it/s]\n",
            "100%|██████████| 200/200 [00:01<00:00, 141.95it/s]\n"
          ]
        },
        {
          "output_type": "stream",
          "name": "stdout",
          "text": [
            "Epoch 9  acc: 0.7699999809265137\n"
          ]
        },
        {
          "output_type": "stream",
          "name": "stderr",
          "text": [
            "100%|██████████| 200/200 [00:01<00:00, 115.30it/s]\n",
            "100%|██████████| 200/200 [00:02<00:00, 97.58it/s]\n",
            "100%|██████████| 200/200 [00:01<00:00, 130.14it/s]\n"
          ]
        },
        {
          "output_type": "stream",
          "name": "stdout",
          "text": [
            "Epoch 12  acc: 0.8849999904632568\n"
          ]
        },
        {
          "output_type": "stream",
          "name": "stderr",
          "text": [
            "100%|██████████| 200/200 [00:01<00:00, 152.56it/s]\n",
            "100%|██████████| 200/200 [00:01<00:00, 145.14it/s]\n",
            "100%|██████████| 200/200 [00:01<00:00, 137.44it/s]\n"
          ]
        },
        {
          "output_type": "stream",
          "name": "stdout",
          "text": [
            "Epoch 15  acc: 0.9449999928474426\n"
          ]
        },
        {
          "output_type": "stream",
          "name": "stderr",
          "text": [
            "100%|██████████| 200/200 [00:01<00:00, 134.27it/s]\n",
            "100%|██████████| 200/200 [00:01<00:00, 140.47it/s]\n",
            "100%|██████████| 200/200 [00:01<00:00, 136.21it/s]\n"
          ]
        },
        {
          "output_type": "stream",
          "name": "stdout",
          "text": [
            "Epoch 18  acc: 0.9900000095367432\n"
          ]
        },
        {
          "output_type": "stream",
          "name": "stderr",
          "text": [
            "100%|██████████| 200/200 [00:01<00:00, 116.14it/s]\n",
            "100%|██████████| 13470/13470 [00:21<00:00, 621.18it/s]"
          ]
        },
        {
          "output_type": "stream",
          "name": "stdout",
          "text": [
            "tensor([0.9900])\n",
            "tensor([0.4987])\n"
          ]
        },
        {
          "output_type": "stream",
          "name": "stderr",
          "text": [
            "\n"
          ]
        }
      ]
    },
    {
      "cell_type": "code",
      "source": [],
      "metadata": {
        "id": "1SRuPHIEmMTx"
      },
      "execution_count": 49,
      "outputs": []
    },
    {
      "cell_type": "code",
      "source": [
        "## train with R_t\n",
        "\n",
        "model = BaseRNNClassifier(10,10,False)\n",
        "optimizer = torch.optim.AdamW(model.parameters())\n",
        "\n",
        "# overfit a small batch to check if learning _can_ occur\n",
        "num_samples, epochs = 200, 20\n",
        "parameters = list(model.parameters())\n",
        "avg_grad_norms = torch.zeros(epochs)\n",
        "\n",
        "# train\n",
        "for epoch in range(epochs):\n",
        "  correct_predictions = torch.tensor([0.])\n",
        "  modified_grad_norm_temp      = torch.zeros(num_samples)\n",
        "  for idx in tqdm(range(num_samples)):\n",
        "    correct_predictions += iterate_one_sentence(train_tokens[idx],\n",
        "                                                train_labels[idx],\n",
        "                                                train_flag=True)\n",
        "    norms = [p.grad.detach().abs().max() for p in parameters if p.grad is not None]\n",
        "    modified_grad_norm_temp[idx] = torch.max(torch.stack(norms))\n",
        "\n",
        "  avg_grad_norms[epoch] = modified_grad_norm_temp.mean()   \n",
        "  acc = correct_predictions/num_samples\n",
        "  if epoch % 3 == 0:\n",
        "    print(\"Epoch\",epoch,\" acc:\",acc.item())\n",
        "\n",
        "# test with R_t\n",
        "test_correct_predictions = torch.tensor([0.])\n",
        "for tokens, label in tqdm(zip(test_tokens, test_labels), total=len(test_tokens)):\n",
        "  test_correct_predictions += iterate_one_sentence(tokens, label, train_flag=False)\n",
        "test_acc = test_correct_predictions / len(test_tokens)\n",
        "\n",
        "print(acc, test_acc, sep=\"\\n\")\n",
        "\n",
        "plt.plot(grad_norm_temp,label = \"Basic RNN cell\")\n",
        "plt.plot(modified_grad_norm_temp, label = \"Modified RNN cell\")\n",
        "plt.legend()\n",
        "plt.xlabel(\"Epoch\")\n",
        "plt.title(\"Average Inf Norm\")\n"
      ],
      "metadata": {
        "colab": {
          "base_uri": "https://localhost:8080/",
          "height": 1000
        },
        "id": "6CBwtZLuLF59",
        "outputId": "883e9c4d-f1ed-478e-f13e-27b4b65e3e19"
      },
      "execution_count": 50,
      "outputs": [
        {
          "output_type": "stream",
          "name": "stderr",
          "text": [
            "100%|██████████| 200/200 [00:01<00:00, 119.69it/s]\n"
          ]
        },
        {
          "output_type": "stream",
          "name": "stdout",
          "text": [
            "Epoch 0  acc: 0.49000000953674316\n"
          ]
        },
        {
          "output_type": "stream",
          "name": "stderr",
          "text": [
            "100%|██████████| 200/200 [00:01<00:00, 101.21it/s]\n",
            "100%|██████████| 200/200 [00:02<00:00, 79.16it/s]\n",
            "100%|██████████| 200/200 [00:01<00:00, 114.01it/s]\n"
          ]
        },
        {
          "output_type": "stream",
          "name": "stdout",
          "text": [
            "Epoch 3  acc: 0.6700000166893005\n"
          ]
        },
        {
          "output_type": "stream",
          "name": "stderr",
          "text": [
            "100%|██████████| 200/200 [00:01<00:00, 116.34it/s]\n",
            "100%|██████████| 200/200 [00:01<00:00, 109.23it/s]\n",
            "100%|██████████| 200/200 [00:01<00:00, 104.86it/s]\n"
          ]
        },
        {
          "output_type": "stream",
          "name": "stdout",
          "text": [
            "Epoch 6  acc: 0.8600000143051147\n"
          ]
        },
        {
          "output_type": "stream",
          "name": "stderr",
          "text": [
            "100%|██████████| 200/200 [00:01<00:00, 106.25it/s]\n",
            "100%|██████████| 200/200 [00:02<00:00, 94.02it/s]\n",
            "100%|██████████| 200/200 [00:02<00:00, 88.86it/s]\n"
          ]
        },
        {
          "output_type": "stream",
          "name": "stdout",
          "text": [
            "Epoch 9  acc: 0.9449999928474426\n"
          ]
        },
        {
          "output_type": "stream",
          "name": "stderr",
          "text": [
            "100%|██████████| 200/200 [00:01<00:00, 101.07it/s]\n",
            "100%|██████████| 200/200 [00:01<00:00, 107.06it/s]\n",
            "100%|██████████| 200/200 [00:01<00:00, 108.11it/s]\n"
          ]
        },
        {
          "output_type": "stream",
          "name": "stdout",
          "text": [
            "Epoch 12  acc: 0.9800000190734863\n"
          ]
        },
        {
          "output_type": "stream",
          "name": "stderr",
          "text": [
            "100%|██████████| 200/200 [00:01<00:00, 107.84it/s]\n",
            "100%|██████████| 200/200 [00:02<00:00, 94.79it/s]\n",
            "100%|██████████| 200/200 [00:02<00:00, 71.34it/s]\n"
          ]
        },
        {
          "output_type": "stream",
          "name": "stdout",
          "text": [
            "Epoch 15  acc: 1.0\n"
          ]
        },
        {
          "output_type": "stream",
          "name": "stderr",
          "text": [
            "100%|██████████| 200/200 [00:01<00:00, 104.45it/s]\n",
            "100%|██████████| 200/200 [00:01<00:00, 106.82it/s]\n",
            "100%|██████████| 200/200 [00:01<00:00, 116.65it/s]\n"
          ]
        },
        {
          "output_type": "stream",
          "name": "stdout",
          "text": [
            "Epoch 18  acc: 1.0\n"
          ]
        },
        {
          "output_type": "stream",
          "name": "stderr",
          "text": [
            "100%|██████████| 200/200 [00:01<00:00, 104.51it/s]\n",
            "100%|██████████| 13470/13470 [00:31<00:00, 424.33it/s]"
          ]
        },
        {
          "output_type": "stream",
          "name": "stdout",
          "text": [
            "tensor([1.])\n",
            "tensor([0.5034])\n"
          ]
        },
        {
          "output_type": "stream",
          "name": "stderr",
          "text": [
            "\n"
          ]
        },
        {
          "output_type": "execute_result",
          "data": {
            "text/plain": [
              "Text(0.5, 1.0, 'Average Inf Norm')"
            ]
          },
          "metadata": {},
          "execution_count": 50
        },
        {
          "output_type": "display_data",
          "data": {
            "text/plain": [
              "<Figure size 640x480 with 1 Axes>"
            ],
            "image/png": "[encoded data removed]"
          },
          "metadata": {}
        }
      ]
    }
  ]
}
